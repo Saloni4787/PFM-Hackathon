{
 "cells": [
  {
   "cell_type": "code",
   "execution_count": null,
   "metadata": {},
   "outputs": [],
   "source": [
    "import os\n",
    "os.chdir(\"./..\")"
   ]
  },
  {
   "cell_type": "code",
   "execution_count": null,
   "metadata": {},
   "outputs": [],
   "source": [
    "import pandas as pd\n",
    "from dotenv import load_dotenv\n",
    "from src.utils.io_utils import load_prompt\n",
    "from src.utils.unusual_spending import detect_unusual_spending, generate_nudge, chat_with_llm, classify_query"
   ]
  },
  {
   "cell_type": "code",
   "execution_count": null,
   "metadata": {},
   "outputs": [],
   "source": [
    "# Chatbot logic\n",
    "print(\"Chatbot: Hello! How can I assist you today?\")\n",
    "customer_id = \"CUSTOMER1\"  \n",
    "conversation_history = []  # Stores chat history\n",
    "transactions_df = pd.read_csv(\"data/TRANS_DATA.csv\")  \n",
    "\n",
    "while True:\n",
    "    user_input = input(\"You: \")\n",
    "    \n",
    "    \n",
    "    if user_input.lower() in [\"exit\", \"quit\", \"bye\"]:\n",
    "        print(\"Chatbot: Goodbye!\")\n",
    "        break\n",
    "\n",
    "    # Classify user query using LLM\n",
    "    query_classification = classify_query(user_input)\n",
    "    \n",
    "    if query_classification == \"spending-related\":\n",
    "        nudge = detect_unusual_spending(transactions_df)\n",
    "        \n",
    "        if nudge:\n",
    "            print(f\"You: {user_input}\")\n",
    "            print(f\"Chatbot: {nudge}\")   \n",
    "            conversation_history.append({\"role\": \"user\", \"content\": user_input})\n",
    "            conversation_history.append({\"role\": \"assistant\", \"content\": nudge})\n",
    "            continue  # Skip calling LLM if a nudge is generated\n",
    "\n",
    "    \n",
    "    # Call LLM normally for other queries\n",
    "    response = chat_with_llm(user_input, conversation_history)\n",
    "    \n",
    "    # Print chat-bot response\n",
    "    print(f\"You: {user_input}\")\n",
    "    print(f\"Chatbot: {response}\")\n",
    "\n",
    "    # Update conversation history\n",
    "    conversation_history.append({\"role\": \"user\", \"content\": user_input})\n",
    "    conversation_history.append({\"role\": \"assistant\", \"content\": response})\n"
   ]
  },
  {
   "cell_type": "code",
   "execution_count": null,
   "metadata": {},
   "outputs": [],
   "source": []
  }
 ],
 "metadata": {
  "kernelspec": {
   "display_name": ".venv",
   "language": "python",
   "name": "python3"
  },
  "language_info": {
   "codemirror_mode": {
    "name": "ipython",
    "version": 3
   },
   "file_extension": ".py",
   "mimetype": "text/x-python",
   "name": "python",
   "nbconvert_exporter": "python",
   "pygments_lexer": "ipython3",
   "version": "3.12.4"
  }
 },
 "nbformat": 4,
 "nbformat_minor": 2
}
